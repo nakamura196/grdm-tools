{
 "cells": [
  {
   "cell_type": "markdown",
   "metadata": {},
   "source": [
    "# GakuNin RDM API client\n",
    "\n",
    "> Tools to interact with the GakuNin RDM API"
   ]
  },
  {
   "cell_type": "code",
   "execution_count": 55,
   "metadata": {},
   "outputs": [],
   "source": [
    "#| default_exp api"
   ]
  },
  {
   "cell_type": "code",
   "execution_count": 56,
   "metadata": {},
   "outputs": [],
   "source": [
    "#| hide\n",
    "from nbdev.showdoc import show_doc"
   ]
  },
  {
   "cell_type": "code",
   "execution_count": 57,
   "metadata": {},
   "outputs": [],
   "source": [
    "#| export\n",
    "import os\n",
    "# from dotenv import load_dotenv\n",
    "import requests"
   ]
  },
  {
   "cell_type": "code",
   "execution_count": 58,
   "metadata": {},
   "outputs": [],
   "source": [
    "#| export\n",
    "class GrdmClient:\n",
    "\n",
    "    def __init__(self, token:str, domain: str = \"rdm.nii.ac.jp\"):\n",
    "        \"\"\"\n",
    "        クライアントの初期化\n",
    "\n",
    "        Args:\n",
    "            token (str): アクセストークン\n",
    "            domain (str): ドメイン名\n",
    "        \"\"\"\n",
    "        # load_dotenv()\n",
    "        # self.token = os.getenv(\"GRDM_TOKEN\")\n",
    "\n",
    "        self.token = token # api_key\n",
    "\n",
    "        self.headers = {\n",
    "            \"Authorization\": f\"Bearer {self.token}\"  # 必要に応じてアクセストークンを設定\n",
    "        }\n",
    "\n",
    "        self.domain = domain\n",
    "\n",
    "    def get_users_me(self):\n",
    "        \"\"\"\n",
    "        ユーザ情報を取得する\n",
    "        \"\"\"\n",
    "\n",
    "        url = f\"https://api.{self.domain}/v2/users/me/\"\n",
    "\n",
    "        response = requests.get(url, headers=self.headers)\n",
    "\n",
    "        if response.status_code == 200:\n",
    "\n",
    "            data = response.json()\n",
    "\n",
    "            return data\n",
    "        \n",
    "        else:\n",
    "\n",
    "            print(\"ユーザ情報の取得に失敗しました。ステータスコード:\", response.status_code)\n",
    "            print(\"レスポンス:\", response.text)\n",
    "\n",
    "            return None\n",
    "\n",
    "    def upload_file(self, file_path: str, url: str):\n",
    "        \"\"\"\n",
    "        ファイルをアップロードする\n",
    "\n",
    "        Args:\n",
    "            file_path (str): ファイルのパス\n",
    "            url (str): アップロード先のURL\n",
    "        \"\"\"\n",
    "        \n",
    "        file_name = os.path.basename(file_path)\n",
    "\n",
    "        upload_url = f\"{url}&name={file_name}\"\n",
    "\n",
    "        # Open the file in binary mode and upload it with a PUT request\n",
    "        with open(file_path, \"rb\") as f:\n",
    "            response = requests.put(upload_url, headers=self.headers, data=f)\n",
    "\n",
    "        # Check the upload result\n",
    "        if response.status_code == 201:\n",
    "            print(\"ファイルが正常にアップロードされました。\")\n",
    "        elif response.status_code == 409:\n",
    "            print(\"同じ名前のファイルが既にフォルダに存在します。\")\n",
    "        else:\n",
    "            print(\"アップロードに失敗しました。ステータスコード:\", response.status_code)\n",
    "            print(\"レスポンス:\", response.text)\n",
    "\n",
    "    def update_file(self, file_path: str, url: str):\n",
    "        \"\"\"\n",
    "        ファイルを更新する\n",
    "\n",
    "        Args:\n",
    "            file_path (str): ファイルのパス\n",
    "            url (str): アップロード先のURL\n",
    "        \"\"\"\n",
    "        \n",
    "        # file_name = os.path.basename(file_path)\n",
    "\n",
    "        # Add Content-Disposition header with the filename\n",
    "        headers = self.headers.copy()\n",
    "\n",
    "        upload_url = f\"{url}\"\n",
    "\n",
    "        # Open the file in binary mode and upload it with a PUT request\n",
    "        with open(file_path, \"rb\") as f:\n",
    "            response = requests.put(upload_url, headers=headers, data=f)\n",
    "\n",
    "        # Check the upload result\n",
    "        if response.status_code == 200:\n",
    "            print(\"ファイルが正常に更新されました。\")\n",
    "        else:\n",
    "            print(\"アップロードに失敗しました。ステータスコード:\", response.status_code)\n",
    "            print(\"レスポンス:\", response.text)\n",
    "\n",
    "    def get_zotero_folder_id(self, project_id):\n",
    "\n",
    "        url = f\"https://api.rdm.nii.ac.jp/v2/nodes/{project_id}/addons/zotero/\"\n",
    "        \n",
    "        response = requests.get(url, headers=self.headers)\n",
    "\n",
    "        if response.status_code == 200:\n",
    "\n",
    "            data = response.json()\n",
    "\n",
    "            return data[\"data\"][\"attributes\"][\"folder_id\"]\n",
    "        \n",
    "        else:\n",
    "\n",
    "            print(\"フォルダIDの取得に失敗しました。ステータスコード:\", response.status_code)\n",
    "            print(\"レスポンス:\", response.text)\n",
    "\n",
    "            return None\n",
    "        \n",
    "    def get_zotero_contents(self, project_id, folder_id):\n",
    "        \"\"\"\n",
    "        Zoteroのコンテンツを取得する\n",
    "\n",
    "        Args:\n",
    "            project_id (str): プロジェクトID\n",
    "            folder_id (str): フォルダID\n",
    "        \"\"\"\n",
    "\n",
    "        url = f\"https://{self.domain}/api/v1/project/{project_id}/zotero/citations/{folder_id}/\"\n",
    "\n",
    "        response = requests.get(url, headers=self.headers)\n",
    "\n",
    "        if response.status_code == 200:\n",
    "\n",
    "            data = response.json()\n",
    "\n",
    "            return data[\"contents\"]\n",
    "        \n",
    "        else:\n",
    "\n",
    "            print(\"Zoteroのコンテンツの取得に失敗しました。ステータスコード:\", response.status_code)\n",
    "            print(\"レスポンス:\", response.text)\n",
    "\n",
    "            return None"
   ]
  },
  {
   "cell_type": "code",
   "execution_count": 59,
   "metadata": {},
   "outputs": [
    {
     "data": {
      "text/markdown": [
       "---\n",
       "\n",
       "[source](https://github.com/nakamura196/grdm-tools/blob/main/grdm_tools/core.py#L14){target=\"_blank\" style=\"float:right; font-size:smaller\"}\n",
       "\n",
       "### GrdmClient\n",
       "\n",
       ">      GrdmClient (token:str, domain:str='rdm.nii.ac.jp')\n",
       "\n",
       "*クライアントの初期化\n",
       "\n",
       "Args:\n",
       "    token (str): アクセストークン\n",
       "    domain (str): ドメイン名*"
      ],
      "text/plain": [
       "---\n",
       "\n",
       "[source](https://github.com/nakamura196/grdm-tools/blob/main/grdm_tools/core.py#L14){target=\"_blank\" style=\"float:right; font-size:smaller\"}\n",
       "\n",
       "### GrdmClient\n",
       "\n",
       ">      GrdmClient (token:str, domain:str='rdm.nii.ac.jp')\n",
       "\n",
       "*クライアントの初期化\n",
       "\n",
       "Args:\n",
       "    token (str): アクセストークン\n",
       "    domain (str): ドメイン名*"
      ]
     },
     "execution_count": 59,
     "metadata": {},
     "output_type": "execute_result"
    }
   ],
   "source": [
    "show_doc(GrdmClient)"
   ]
  },
  {
   "cell_type": "code",
   "execution_count": 60,
   "metadata": {},
   "outputs": [
    {
     "data": {
      "text/markdown": [
       "---\n",
       "\n",
       "[source](https://github.com/nakamura196/grdm-tools/blob/main/grdm_tools/core.py#L26){target=\"_blank\" style=\"float:right; font-size:smaller\"}\n",
       "\n",
       "### GrdmClient.upload_file\n",
       "\n",
       ">      GrdmClient.upload_file (file_path:str, url:str)\n",
       "\n",
       "*ファイルをアップロードする\n",
       "\n",
       "Args:\n",
       "    file_path (str): ファイルのパス\n",
       "    url (str): アップロード先のURL*"
      ],
      "text/plain": [
       "---\n",
       "\n",
       "[source](https://github.com/nakamura196/grdm-tools/blob/main/grdm_tools/core.py#L26){target=\"_blank\" style=\"float:right; font-size:smaller\"}\n",
       "\n",
       "### GrdmClient.upload_file\n",
       "\n",
       ">      GrdmClient.upload_file (file_path:str, url:str)\n",
       "\n",
       "*ファイルをアップロードする\n",
       "\n",
       "Args:\n",
       "    file_path (str): ファイルのパス\n",
       "    url (str): アップロード先のURL*"
      ]
     },
     "execution_count": 60,
     "metadata": {},
     "output_type": "execute_result"
    }
   ],
   "source": [
    "show_doc(GrdmClient.upload_file)"
   ]
  },
  {
   "cell_type": "code",
   "execution_count": 61,
   "metadata": {},
   "outputs": [],
   "source": [
    "#| hide\n",
    "# show_doc(GrdmClient.update_file)"
   ]
  },
  {
   "cell_type": "code",
   "execution_count": 62,
   "metadata": {},
   "outputs": [
    {
     "data": {
      "text/markdown": [
       "---\n",
       "\n",
       "[source](https://github.com/nakamura196/grdm-tools/blob/main/grdm_tools/core.py#L98){target=\"_blank\" style=\"float:right; font-size:smaller\"}\n",
       "\n",
       "### GrdmClient.get_zotero_contents\n",
       "\n",
       ">      GrdmClient.get_zotero_contents (project_id, folder_id)\n",
       "\n",
       "*Zoteroのコンテンツを取得する\n",
       "\n",
       "Args:\n",
       "    project_id (str): プロジェクトID\n",
       "    folder_id (str): フォルダID*"
      ],
      "text/plain": [
       "---\n",
       "\n",
       "[source](https://github.com/nakamura196/grdm-tools/blob/main/grdm_tools/core.py#L98){target=\"_blank\" style=\"float:right; font-size:smaller\"}\n",
       "\n",
       "### GrdmClient.get_zotero_contents\n",
       "\n",
       ">      GrdmClient.get_zotero_contents (project_id, folder_id)\n",
       "\n",
       "*Zoteroのコンテンツを取得する\n",
       "\n",
       "Args:\n",
       "    project_id (str): プロジェクトID\n",
       "    folder_id (str): フォルダID*"
      ]
     },
     "execution_count": 62,
     "metadata": {},
     "output_type": "execute_result"
    }
   ],
   "source": [
    "show_doc(GrdmClient.get_zotero_contents)"
   ]
  },
  {
   "cell_type": "code",
   "execution_count": 63,
   "metadata": {},
   "outputs": [],
   "source": [
    "#| hide\n",
    "import nbdev; nbdev.nbdev_export()"
   ]
  }
 ],
 "metadata": {
  "kernelspec": {
   "display_name": ".venv",
   "language": "python",
   "name": "python3"
  },
  "language_info": {
   "codemirror_mode": {
    "name": "ipython",
    "version": 3
   },
   "file_extension": ".py",
   "mimetype": "text/x-python",
   "name": "python",
   "nbconvert_exporter": "python",
   "pygments_lexer": "ipython3",
   "version": "3.9.11"
  }
 },
 "nbformat": 4,
 "nbformat_minor": 4
}
