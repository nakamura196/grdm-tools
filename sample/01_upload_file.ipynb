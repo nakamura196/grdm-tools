{
 "cells": [
  {
   "cell_type": "code",
   "execution_count": 37,
   "metadata": {},
   "outputs": [],
   "source": [
    "#| hide\n",
    "%reload_ext autoreload\n",
    "%autoreload 2"
   ]
  },
  {
   "cell_type": "code",
   "execution_count": 38,
   "metadata": {},
   "outputs": [],
   "source": [
    "from grdm_tools.api import GrdmClient\n",
    "import os"
   ]
  },
  {
   "cell_type": "code",
   "execution_count": 39,
   "metadata": {},
   "outputs": [],
   "source": [
    "client = GrdmClient(\n",
    "    token=os.environ.get('GRDM_TOKEN'),\n",
    ")"
   ]
  },
  {
   "cell_type": "code",
   "execution_count": 40,
   "metadata": {},
   "outputs": [],
   "source": [
    "project_id = \"ys86g\""
   ]
  },
  {
   "cell_type": "markdown",
   "metadata": {},
   "source": [
    "## ファイルのアップロード"
   ]
  },
  {
   "cell_type": "code",
   "execution_count": 41,
   "metadata": {},
   "outputs": [
    {
     "name": "stdout",
     "output_type": "stream",
     "text": [
      "同じ名前のファイルが既にフォルダに存在します。\n"
     ]
    }
   ],
   "source": [
    "file_path = \"./sample.png\"\n",
    "url = f\"https://files.rdm.nii.ac.jp/v1/resources/{project_id}/providers/osfstorage/6735a92e6dc8e1001062ac08/?kind=file\"\n",
    "\n",
    "client.upload_file(file_path, url)"
   ]
  },
  {
   "cell_type": "markdown",
   "metadata": {},
   "source": [
    "## ファイルの更新"
   ]
  },
  {
   "cell_type": "code",
   "execution_count": 42,
   "metadata": {},
   "outputs": [
    {
     "name": "stdout",
     "output_type": "stream",
     "text": [
      "ファイルが正常に更新されました。\n"
     ]
    }
   ],
   "source": [
    "file_path = \"../README.md\"\n",
    "url = f\"https://files.rdm.nii.ac.jp/v1/resources/{project_id}/providers/osfstorage/673711656dc8e1001063556b\"\n",
    "\n",
    "client.update_file(file_path, url)"
   ]
  },
  {
   "cell_type": "markdown",
   "metadata": {},
   "source": [
    "## Zotero"
   ]
  },
  {
   "cell_type": "code",
   "execution_count": 43,
   "metadata": {},
   "outputs": [
    {
     "data": {
      "text/plain": [
       "[{'csl': {'id': '6173116/VK52TP64',\n",
       "   'type': 'article',\n",
       "   'title': 'jinmonkon2024_kim_1.7.pdf'},\n",
       "  'kind': 'file',\n",
       "  'id': '6173116/VK52TP64'},\n",
       " {'csl': {'id': '6173116/M2M6HKAS',\n",
       "   'type': 'article',\n",
       "   'title': 'Proposal for National Institute of Informatics Japan 20240717.pdf'},\n",
       "  'kind': 'file',\n",
       "  'id': '6173116/M2M6HKAS'},\n",
       " {'csl': {'id': '6173116/SCJ9QQ6N',\n",
       "   'type': 'article',\n",
       "   'title': 'gcasreport4_6_22.pdf'},\n",
       "  'kind': 'file',\n",
       "  'id': '6173116/SCJ9QQ6N'},\n",
       " {'csl': {'id': '6173116/2RE8I4JM', 'type': 'article', 'title': '652x1m2.pdf'},\n",
       "  'kind': 'file',\n",
       "  'id': '6173116/2RE8I4JM'},\n",
       " {'csl': {'id': '6173116/9UZWANGM',\n",
       "   'type': 'article',\n",
       "   'title': 'DCMI-Marciano.pdf'},\n",
       "  'kind': 'file',\n",
       "  'id': '6173116/9UZWANGM'},\n",
       " {'csl': {'id': '6173116/VFSFJV9A',\n",
       "   'type': 'article',\n",
       "   'title': 'ARK-Training-Tutorial-IIIF-2023-slides.pdf'},\n",
       "  'kind': 'file',\n",
       "  'id': '6173116/VFSFJV9A'},\n",
       " {'csl': {'id': '6173116/2JL6A8NI',\n",
       "   'type': 'article',\n",
       "   'title': '[A22] Archivematicaを活用したデジタルデータの長期保存を支援する簡易操作アプリケーションの開発',\n",
       "   'publisher': 'デジタルアーカイブ学会',\n",
       "   'URL': 'https://doi.org/10.24506/jsda.7.s2_s107',\n",
       "   'DOI': '10.24506/jsda.7.s2_s107',\n",
       "   'number': 's2',\n",
       "   'language': 'ja',\n",
       "   'author': [{'family': '中村', 'given': '覚'},\n",
       "    {'family': '金', 'given': '甫榮'},\n",
       "    {'family': '南山', 'given': '泰之'}],\n",
       "   'issued': {'date-parts': [[2023]]},\n",
       "   'accessed': {'date-parts': [[2024, 10, 29]]}},\n",
       "  'kind': 'file',\n",
       "  'id': '6173116/2JL6A8NI'},\n",
       " {'csl': {'id': '6173116/ISLSYDUM',\n",
       "   'type': 'article',\n",
       "   'title': '[B2] 真正なデジタル化資料の長期保存と公開：ArchivematicaとOmeka Sを用いた事例',\n",
       "   'publisher': 'デジタルアーカイブ学会',\n",
       "   'URL': 'https://doi.org/10.24506/jsda.6.s3_s147',\n",
       "   'DOI': '10.24506/jsda.6.s3_s147',\n",
       "   'number': 's3',\n",
       "   'language': 'ja',\n",
       "   'author': [{'family': '金', 'given': '甫榮'},\n",
       "    {'family': '中村', 'given': '覚'},\n",
       "    {'family': '渡邉', 'given': '英徳'}],\n",
       "   'issued': {'date-parts': [[2022]]},\n",
       "   'accessed': {'date-parts': [[2024, 10, 29]]}},\n",
       "  'kind': 'file',\n",
       "  'id': '6173116/ISLSYDUM'},\n",
       " {'csl': {'id': '6173116/D8USAKMF',\n",
       "   'type': 'chapter',\n",
       "   'title': 'Using Archivematica and Omeka S for Long-Term Preservation and Access of Digitized Archive Materials',\n",
       "   'container-title': 'From Born-Physical to Born-Virtual: Augmenting Intelligence in Digital Libraries',\n",
       "   'publisher': 'Springer International Publishing',\n",
       "   'publisher-place': 'Cham',\n",
       "   'page': '241-250',\n",
       "   'volume': '13636',\n",
       "   'event-place': 'Cham',\n",
       "   'URL': 'https://link.springer.com/10.1007/978-3-031-21756-2_20',\n",
       "   'ISBN': '9783031217555 9783031217562',\n",
       "   'note': 'DOI: 10.1007/978-3-031-21756-2_20',\n",
       "   'language': 'en',\n",
       "   'editor': [{'family': 'Tseng', 'given': 'Yuen-Hsien'},\n",
       "    {'family': 'Katsurai', 'given': 'Marie'},\n",
       "    {'family': 'Nguyen', 'given': 'Hoa N.'}],\n",
       "   'author': [{'family': 'Kim', 'given': 'Boyoung'},\n",
       "    {'family': 'Nakamura', 'given': 'Satoru'},\n",
       "    {'family': 'Watanave', 'given': 'Hidenori'}],\n",
       "   'issued': {'date-parts': [[2022]]},\n",
       "   'accessed': {'date-parts': [[2024, 10, 29]]}},\n",
       "  'kind': 'file',\n",
       "  'id': '6173116/D8USAKMF'}]"
      ]
     },
     "execution_count": 43,
     "metadata": {},
     "output_type": "execute_result"
    }
   ],
   "source": [
    "# zotero_foler_id = client.get_zotero_folder_id(project_id)\n",
    "zotero_foler_id = \"PBVVNSUE\"\n",
    "\n",
    "contents = client.get_zotero_contents(project_id, zotero_foler_id)\n",
    "contents"
   ]
  },
  {
   "cell_type": "markdown",
   "metadata": {},
   "source": []
  }
 ],
 "metadata": {
  "kernelspec": {
   "display_name": ".venv",
   "language": "python",
   "name": "python3"
  },
  "language_info": {
   "codemirror_mode": {
    "name": "ipython",
    "version": 3
   },
   "file_extension": ".py",
   "mimetype": "text/x-python",
   "name": "python",
   "nbconvert_exporter": "python",
   "pygments_lexer": "ipython3",
   "version": "3.9.11"
  }
 },
 "nbformat": 4,
 "nbformat_minor": 2
}
